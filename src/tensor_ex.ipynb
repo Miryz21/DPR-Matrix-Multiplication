{
 "cells": [
  {
   "cell_type": "code",
   "execution_count": null,
   "metadata": {
    "collapsed": true,
    "ExecuteTime": {
     "start_time": "2023-05-18T21:22:29.109319Z",
     "end_time": "2023-05-18T21:22:29.774904Z"
    }
   },
   "outputs": [],
   "source": [
    "import torch\n",
    "import pickle\n",
    "\n",
    "\n",
    "def get_tensor(x, y, z):\n",
    "    multiply_tensor = [[[0 for _ in range(x * y)] for __ in range(y * z)]\n",
    "                       for ___ in range(x * z)]\n",
    "\n",
    "    for i in range(z):\n",
    "        for j in range(x):\n",
    "            for k in range(y):\n",
    "                multiply_tensor[i * x + j][i * y + k][j + k * x] = 1\n",
    "\n",
    "    final_tensor = torch.tensor(multiply_tensor)\n",
    "    return final_tensor"
   ]
  },
  {
   "cell_type": "code",
   "execution_count": null,
   "outputs": [],
   "source": [
    "lib = {}\n",
    "for a in range(1, 16):\n",
    "    for b in range(1, 16):\n",
    "        for c in range(1, 16):\n",
    "            lib.update({(a, b, c): get_tensor(a, b, c)})\n",
    "\n",
    "with open('./tensor_holder/tensors', 'wb') as f:\n",
    "    pickle.dump(lib, f)"
   ],
   "metadata": {
    "collapsed": false,
    "ExecuteTime": {
     "start_time": "2023-05-18T21:22:30.128812Z",
     "end_time": "2023-05-18T21:25:50.304312Z"
    }
   }
  }
 ],
 "metadata": {
  "kernelspec": {
   "display_name": "Python 3",
   "language": "python",
   "name": "python3"
  },
  "language_info": {
   "codemirror_mode": {
    "name": "ipython",
    "version": 2
   },
   "file_extension": ".py",
   "mimetype": "text/x-python",
   "name": "python",
   "nbconvert_exporter": "python",
   "pygments_lexer": "ipython2",
   "version": "2.7.6"
  }
 },
 "nbformat": 4,
 "nbformat_minor": 0
}
