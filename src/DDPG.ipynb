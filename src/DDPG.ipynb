{
 "cells": [
  {
   "cell_type": "code",
   "execution_count": 26,
   "outputs": [
    {
     "name": "stdout",
     "output_type": "stream",
     "text": [
      "Requirement already satisfied: recnn in /Users/artemvolosevich/Documents/JetProjects/PyProjects/DPR-Matrix-Multiplication/venv/lib/python3.11/site-packages (0.1)\r\n",
      "Requirement already satisfied: torch in /Users/artemvolosevich/Documents/JetProjects/PyProjects/DPR-Matrix-Multiplication/venv/lib/python3.11/site-packages (from recnn) (2.0.1)\r\n",
      "Requirement already satisfied: numpy in /Users/artemvolosevich/Documents/JetProjects/PyProjects/DPR-Matrix-Multiplication/venv/lib/python3.11/site-packages (from recnn) (1.24.3)\r\n",
      "Requirement already satisfied: torchvision in /Users/artemvolosevich/Documents/JetProjects/PyProjects/DPR-Matrix-Multiplication/venv/lib/python3.11/site-packages (from recnn) (0.15.2)\r\n",
      "Requirement already satisfied: filelock in /Users/artemvolosevich/Documents/JetProjects/PyProjects/DPR-Matrix-Multiplication/venv/lib/python3.11/site-packages (from torch->recnn) (3.12.2)\r\n",
      "Requirement already satisfied: typing-extensions in /Users/artemvolosevich/Documents/JetProjects/PyProjects/DPR-Matrix-Multiplication/venv/lib/python3.11/site-packages (from torch->recnn) (4.6.3)\r\n",
      "Requirement already satisfied: sympy in /Users/artemvolosevich/Documents/JetProjects/PyProjects/DPR-Matrix-Multiplication/venv/lib/python3.11/site-packages (from torch->recnn) (1.12)\r\n",
      "Requirement already satisfied: networkx in /Users/artemvolosevich/Documents/JetProjects/PyProjects/DPR-Matrix-Multiplication/venv/lib/python3.11/site-packages (from torch->recnn) (3.1)\r\n",
      "Requirement already satisfied: jinja2 in /Users/artemvolosevich/Documents/JetProjects/PyProjects/DPR-Matrix-Multiplication/venv/lib/python3.11/site-packages (from torch->recnn) (3.1.2)\r\n",
      "Requirement already satisfied: requests in /Users/artemvolosevich/Documents/JetProjects/PyProjects/DPR-Matrix-Multiplication/venv/lib/python3.11/site-packages (from torchvision->recnn) (2.31.0)\r\n",
      "Requirement already satisfied: pillow!=8.3.*,>=5.3.0 in /Users/artemvolosevich/Documents/JetProjects/PyProjects/DPR-Matrix-Multiplication/venv/lib/python3.11/site-packages (from torchvision->recnn) (9.5.0)\r\n",
      "Requirement already satisfied: MarkupSafe>=2.0 in /Users/artemvolosevich/Documents/JetProjects/PyProjects/DPR-Matrix-Multiplication/venv/lib/python3.11/site-packages (from jinja2->torch->recnn) (2.1.3)\r\n",
      "Requirement already satisfied: charset-normalizer<4,>=2 in /Users/artemvolosevich/Documents/JetProjects/PyProjects/DPR-Matrix-Multiplication/venv/lib/python3.11/site-packages (from requests->torchvision->recnn) (3.1.0)\r\n",
      "Requirement already satisfied: idna<4,>=2.5 in /Users/artemvolosevich/Documents/JetProjects/PyProjects/DPR-Matrix-Multiplication/venv/lib/python3.11/site-packages (from requests->torchvision->recnn) (3.4)\r\n",
      "Requirement already satisfied: urllib3<3,>=1.21.1 in /Users/artemvolosevich/Documents/JetProjects/PyProjects/DPR-Matrix-Multiplication/venv/lib/python3.11/site-packages (from requests->torchvision->recnn) (1.26.16)\r\n",
      "Requirement already satisfied: certifi>=2017.4.17 in /Users/artemvolosevich/Documents/JetProjects/PyProjects/DPR-Matrix-Multiplication/venv/lib/python3.11/site-packages (from requests->torchvision->recnn) (2023.5.7)\r\n",
      "Requirement already satisfied: mpmath>=0.19 in /Users/artemvolosevich/Documents/JetProjects/PyProjects/DPR-Matrix-Multiplication/venv/lib/python3.11/site-packages (from sympy->torch->recnn) (1.3.0)\r\n",
      "\r\n",
      "\u001B[1m[\u001B[0m\u001B[34;49mnotice\u001B[0m\u001B[1;39;49m]\u001B[0m\u001B[39;49m A new release of pip available: \u001B[0m\u001B[31;49m22.3.1\u001B[0m\u001B[39;49m -> \u001B[0m\u001B[32;49m23.1.2\u001B[0m\r\n",
      "\u001B[1m[\u001B[0m\u001B[34;49mnotice\u001B[0m\u001B[1;39;49m]\u001B[0m\u001B[39;49m To update, run: \u001B[0m\u001B[32;49mpip install --upgrade pip\u001B[0m\r\n",
      "Requirement already satisfied: torch_optimizer in /Users/artemvolosevich/Documents/JetProjects/PyProjects/DPR-Matrix-Multiplication/venv/lib/python3.11/site-packages (0.3.0)\r\n",
      "Requirement already satisfied: torch>=1.5.0 in /Users/artemvolosevich/Documents/JetProjects/PyProjects/DPR-Matrix-Multiplication/venv/lib/python3.11/site-packages (from torch_optimizer) (2.0.1)\r\n",
      "Requirement already satisfied: pytorch-ranger>=0.1.1 in /Users/artemvolosevich/Documents/JetProjects/PyProjects/DPR-Matrix-Multiplication/venv/lib/python3.11/site-packages (from torch_optimizer) (0.1.1)\r\n",
      "Requirement already satisfied: filelock in /Users/artemvolosevich/Documents/JetProjects/PyProjects/DPR-Matrix-Multiplication/venv/lib/python3.11/site-packages (from torch>=1.5.0->torch_optimizer) (3.12.2)\r\n",
      "Requirement already satisfied: typing-extensions in /Users/artemvolosevich/Documents/JetProjects/PyProjects/DPR-Matrix-Multiplication/venv/lib/python3.11/site-packages (from torch>=1.5.0->torch_optimizer) (4.6.3)\r\n",
      "Requirement already satisfied: sympy in /Users/artemvolosevich/Documents/JetProjects/PyProjects/DPR-Matrix-Multiplication/venv/lib/python3.11/site-packages (from torch>=1.5.0->torch_optimizer) (1.12)\r\n",
      "Requirement already satisfied: networkx in /Users/artemvolosevich/Documents/JetProjects/PyProjects/DPR-Matrix-Multiplication/venv/lib/python3.11/site-packages (from torch>=1.5.0->torch_optimizer) (3.1)\r\n",
      "Requirement already satisfied: jinja2 in /Users/artemvolosevich/Documents/JetProjects/PyProjects/DPR-Matrix-Multiplication/venv/lib/python3.11/site-packages (from torch>=1.5.0->torch_optimizer) (3.1.2)\r\n",
      "Requirement already satisfied: MarkupSafe>=2.0 in /Users/artemvolosevich/Documents/JetProjects/PyProjects/DPR-Matrix-Multiplication/venv/lib/python3.11/site-packages (from jinja2->torch>=1.5.0->torch_optimizer) (2.1.3)\r\n",
      "Requirement already satisfied: mpmath>=0.19 in /Users/artemvolosevich/Documents/JetProjects/PyProjects/DPR-Matrix-Multiplication/venv/lib/python3.11/site-packages (from sympy->torch>=1.5.0->torch_optimizer) (1.3.0)\r\n",
      "\r\n",
      "\u001B[1m[\u001B[0m\u001B[34;49mnotice\u001B[0m\u001B[1;39;49m]\u001B[0m\u001B[39;49m A new release of pip available: \u001B[0m\u001B[31;49m22.3.1\u001B[0m\u001B[39;49m -> \u001B[0m\u001B[32;49m23.1.2\u001B[0m\r\n",
      "\u001B[1m[\u001B[0m\u001B[34;49mnotice\u001B[0m\u001B[1;39;49m]\u001B[0m\u001B[39;49m To update, run: \u001B[0m\u001B[32;49mpip install --upgrade pip\u001B[0m\r\n",
      "Requirement already satisfied: tensorboard in /Users/artemvolosevich/Documents/JetProjects/PyProjects/DPR-Matrix-Multiplication/venv/lib/python3.11/site-packages (2.13.0)\r\n",
      "Requirement already satisfied: absl-py>=0.4 in /Users/artemvolosevich/Documents/JetProjects/PyProjects/DPR-Matrix-Multiplication/venv/lib/python3.11/site-packages (from tensorboard) (1.4.0)\r\n",
      "Requirement already satisfied: grpcio>=1.48.2 in /Users/artemvolosevich/Documents/JetProjects/PyProjects/DPR-Matrix-Multiplication/venv/lib/python3.11/site-packages (from tensorboard) (1.54.2)\r\n",
      "Requirement already satisfied: google-auth<3,>=1.6.3 in /Users/artemvolosevich/Documents/JetProjects/PyProjects/DPR-Matrix-Multiplication/venv/lib/python3.11/site-packages (from tensorboard) (2.20.0)\r\n",
      "Requirement already satisfied: google-auth-oauthlib<1.1,>=0.5 in /Users/artemvolosevich/Documents/JetProjects/PyProjects/DPR-Matrix-Multiplication/venv/lib/python3.11/site-packages (from tensorboard) (1.0.0)\r\n",
      "Requirement already satisfied: markdown>=2.6.8 in /Users/artemvolosevich/Documents/JetProjects/PyProjects/DPR-Matrix-Multiplication/venv/lib/python3.11/site-packages (from tensorboard) (3.4.3)\r\n",
      "Requirement already satisfied: numpy>=1.12.0 in /Users/artemvolosevich/Documents/JetProjects/PyProjects/DPR-Matrix-Multiplication/venv/lib/python3.11/site-packages (from tensorboard) (1.24.3)\r\n",
      "Requirement already satisfied: protobuf>=3.19.6 in /Users/artemvolosevich/Documents/JetProjects/PyProjects/DPR-Matrix-Multiplication/venv/lib/python3.11/site-packages (from tensorboard) (4.23.2)\r\n",
      "Requirement already satisfied: requests<3,>=2.21.0 in /Users/artemvolosevich/Documents/JetProjects/PyProjects/DPR-Matrix-Multiplication/venv/lib/python3.11/site-packages (from tensorboard) (2.31.0)\r\n",
      "Requirement already satisfied: setuptools>=41.0.0 in /Users/artemvolosevich/Documents/JetProjects/PyProjects/DPR-Matrix-Multiplication/venv/lib/python3.11/site-packages (from tensorboard) (65.5.1)\r\n",
      "Requirement already satisfied: tensorboard-data-server<0.8.0,>=0.7.0 in /Users/artemvolosevich/Documents/JetProjects/PyProjects/DPR-Matrix-Multiplication/venv/lib/python3.11/site-packages (from tensorboard) (0.7.1)\r\n",
      "Requirement already satisfied: werkzeug>=1.0.1 in /Users/artemvolosevich/Documents/JetProjects/PyProjects/DPR-Matrix-Multiplication/venv/lib/python3.11/site-packages (from tensorboard) (2.3.6)\r\n",
      "Requirement already satisfied: wheel>=0.26 in /Users/artemvolosevich/Documents/JetProjects/PyProjects/DPR-Matrix-Multiplication/venv/lib/python3.11/site-packages (from tensorboard) (0.38.4)\r\n",
      "Requirement already satisfied: cachetools<6.0,>=2.0.0 in /Users/artemvolosevich/Documents/JetProjects/PyProjects/DPR-Matrix-Multiplication/venv/lib/python3.11/site-packages (from google-auth<3,>=1.6.3->tensorboard) (5.3.1)\r\n",
      "Requirement already satisfied: pyasn1-modules>=0.2.1 in /Users/artemvolosevich/Documents/JetProjects/PyProjects/DPR-Matrix-Multiplication/venv/lib/python3.11/site-packages (from google-auth<3,>=1.6.3->tensorboard) (0.3.0)\r\n",
      "Requirement already satisfied: rsa<5,>=3.1.4 in /Users/artemvolosevich/Documents/JetProjects/PyProjects/DPR-Matrix-Multiplication/venv/lib/python3.11/site-packages (from google-auth<3,>=1.6.3->tensorboard) (4.9)\r\n",
      "Requirement already satisfied: six>=1.9.0 in /Users/artemvolosevich/Documents/JetProjects/PyProjects/DPR-Matrix-Multiplication/venv/lib/python3.11/site-packages (from google-auth<3,>=1.6.3->tensorboard) (1.16.0)\r\n",
      "Requirement already satisfied: urllib3<2.0 in /Users/artemvolosevich/Documents/JetProjects/PyProjects/DPR-Matrix-Multiplication/venv/lib/python3.11/site-packages (from google-auth<3,>=1.6.3->tensorboard) (1.26.16)\r\n",
      "Requirement already satisfied: requests-oauthlib>=0.7.0 in /Users/artemvolosevich/Documents/JetProjects/PyProjects/DPR-Matrix-Multiplication/venv/lib/python3.11/site-packages (from google-auth-oauthlib<1.1,>=0.5->tensorboard) (1.3.1)\r\n",
      "Requirement already satisfied: charset-normalizer<4,>=2 in /Users/artemvolosevich/Documents/JetProjects/PyProjects/DPR-Matrix-Multiplication/venv/lib/python3.11/site-packages (from requests<3,>=2.21.0->tensorboard) (3.1.0)\r\n",
      "Requirement already satisfied: idna<4,>=2.5 in /Users/artemvolosevich/Documents/JetProjects/PyProjects/DPR-Matrix-Multiplication/venv/lib/python3.11/site-packages (from requests<3,>=2.21.0->tensorboard) (3.4)\r\n",
      "Requirement already satisfied: certifi>=2017.4.17 in /Users/artemvolosevich/Documents/JetProjects/PyProjects/DPR-Matrix-Multiplication/venv/lib/python3.11/site-packages (from requests<3,>=2.21.0->tensorboard) (2023.5.7)\r\n",
      "Requirement already satisfied: MarkupSafe>=2.1.1 in /Users/artemvolosevich/Documents/JetProjects/PyProjects/DPR-Matrix-Multiplication/venv/lib/python3.11/site-packages (from werkzeug>=1.0.1->tensorboard) (2.1.3)\r\n",
      "Requirement already satisfied: pyasn1<0.6.0,>=0.4.6 in /Users/artemvolosevich/Documents/JetProjects/PyProjects/DPR-Matrix-Multiplication/venv/lib/python3.11/site-packages (from pyasn1-modules>=0.2.1->google-auth<3,>=1.6.3->tensorboard) (0.5.0)\r\n",
      "Requirement already satisfied: oauthlib>=3.0.0 in /Users/artemvolosevich/Documents/JetProjects/PyProjects/DPR-Matrix-Multiplication/venv/lib/python3.11/site-packages (from requests-oauthlib>=0.7.0->google-auth-oauthlib<1.1,>=0.5->tensorboard) (3.2.2)\r\n",
      "\r\n",
      "\u001B[1m[\u001B[0m\u001B[34;49mnotice\u001B[0m\u001B[1;39;49m]\u001B[0m\u001B[39;49m A new release of pip available: \u001B[0m\u001B[31;49m22.3.1\u001B[0m\u001B[39;49m -> \u001B[0m\u001B[32;49m23.1.2\u001B[0m\r\n",
      "\u001B[1m[\u001B[0m\u001B[34;49mnotice\u001B[0m\u001B[1;39;49m]\u001B[0m\u001B[39;49m To update, run: \u001B[0m\u001B[32;49mpip install --upgrade pip\u001B[0m\r\n",
      "Requirement already satisfied: sklearn in /Users/artemvolosevich/Documents/JetProjects/PyProjects/DPR-Matrix-Multiplication/venv/lib/python3.11/site-packages (0.0.post5)\r\n",
      "\r\n",
      "\u001B[1m[\u001B[0m\u001B[34;49mnotice\u001B[0m\u001B[1;39;49m]\u001B[0m\u001B[39;49m A new release of pip available: \u001B[0m\u001B[31;49m22.3.1\u001B[0m\u001B[39;49m -> \u001B[0m\u001B[32;49m23.1.2\u001B[0m\r\n",
      "\u001B[1m[\u001B[0m\u001B[34;49mnotice\u001B[0m\u001B[1;39;49m]\u001B[0m\u001B[39;49m To update, run: \u001B[0m\u001B[32;49mpip install --upgrade pip\u001B[0m\r\n",
      "Requirement already satisfied: jupyterthemes in /Users/artemvolosevich/Documents/JetProjects/PyProjects/DPR-Matrix-Multiplication/venv/lib/python3.11/site-packages (0.20.0)\r\n",
      "Requirement already satisfied: jupyter-core in /Users/artemvolosevich/Documents/JetProjects/PyProjects/DPR-Matrix-Multiplication/venv/lib/python3.11/site-packages (from jupyterthemes) (5.3.0)\r\n",
      "Requirement already satisfied: notebook>=5.6.0 in /Users/artemvolosevich/Documents/JetProjects/PyProjects/DPR-Matrix-Multiplication/venv/lib/python3.11/site-packages (from jupyterthemes) (6.5.4)\r\n",
      "Requirement already satisfied: ipython>=5.4.1 in /Users/artemvolosevich/Documents/JetProjects/PyProjects/DPR-Matrix-Multiplication/venv/lib/python3.11/site-packages (from jupyterthemes) (8.14.0)\r\n",
      "Requirement already satisfied: matplotlib>=1.4.3 in /Users/artemvolosevich/Documents/JetProjects/PyProjects/DPR-Matrix-Multiplication/venv/lib/python3.11/site-packages (from jupyterthemes) (3.7.1)\r\n",
      "Requirement already satisfied: lesscpy>=0.11.2 in /Users/artemvolosevich/Documents/JetProjects/PyProjects/DPR-Matrix-Multiplication/venv/lib/python3.11/site-packages (from jupyterthemes) (0.15.1)\r\n",
      "Requirement already satisfied: backcall in /Users/artemvolosevich/Documents/JetProjects/PyProjects/DPR-Matrix-Multiplication/venv/lib/python3.11/site-packages (from ipython>=5.4.1->jupyterthemes) (0.2.0)\r\n",
      "Requirement already satisfied: decorator in /Users/artemvolosevich/Documents/JetProjects/PyProjects/DPR-Matrix-Multiplication/venv/lib/python3.11/site-packages (from ipython>=5.4.1->jupyterthemes) (5.1.1)\r\n",
      "Requirement already satisfied: jedi>=0.16 in /Users/artemvolosevich/Documents/JetProjects/PyProjects/DPR-Matrix-Multiplication/venv/lib/python3.11/site-packages (from ipython>=5.4.1->jupyterthemes) (0.18.2)\r\n",
      "Requirement already satisfied: matplotlib-inline in /Users/artemvolosevich/Documents/JetProjects/PyProjects/DPR-Matrix-Multiplication/venv/lib/python3.11/site-packages (from ipython>=5.4.1->jupyterthemes) (0.1.6)\r\n",
      "Requirement already satisfied: pickleshare in /Users/artemvolosevich/Documents/JetProjects/PyProjects/DPR-Matrix-Multiplication/venv/lib/python3.11/site-packages (from ipython>=5.4.1->jupyterthemes) (0.7.5)\r\n",
      "Requirement already satisfied: prompt-toolkit!=3.0.37,<3.1.0,>=3.0.30 in /Users/artemvolosevich/Documents/JetProjects/PyProjects/DPR-Matrix-Multiplication/venv/lib/python3.11/site-packages (from ipython>=5.4.1->jupyterthemes) (3.0.38)\r\n",
      "Requirement already satisfied: pygments>=2.4.0 in /Users/artemvolosevich/Documents/JetProjects/PyProjects/DPR-Matrix-Multiplication/venv/lib/python3.11/site-packages (from ipython>=5.4.1->jupyterthemes) (2.15.1)\r\n",
      "Requirement already satisfied: stack-data in /Users/artemvolosevich/Documents/JetProjects/PyProjects/DPR-Matrix-Multiplication/venv/lib/python3.11/site-packages (from ipython>=5.4.1->jupyterthemes) (0.6.2)\r\n",
      "Requirement already satisfied: traitlets>=5 in /Users/artemvolosevich/Documents/JetProjects/PyProjects/DPR-Matrix-Multiplication/venv/lib/python3.11/site-packages (from ipython>=5.4.1->jupyterthemes) (5.9.0)\r\n",
      "Requirement already satisfied: pexpect>4.3 in /Users/artemvolosevich/Documents/JetProjects/PyProjects/DPR-Matrix-Multiplication/venv/lib/python3.11/site-packages (from ipython>=5.4.1->jupyterthemes) (4.8.0)\r\n",
      "Requirement already satisfied: appnope in /Users/artemvolosevich/Documents/JetProjects/PyProjects/DPR-Matrix-Multiplication/venv/lib/python3.11/site-packages (from ipython>=5.4.1->jupyterthemes) (0.1.3)\r\n",
      "Requirement already satisfied: ply in /Users/artemvolosevich/Documents/JetProjects/PyProjects/DPR-Matrix-Multiplication/venv/lib/python3.11/site-packages (from lesscpy>=0.11.2->jupyterthemes) (3.11)\r\n",
      "Requirement already satisfied: contourpy>=1.0.1 in /Users/artemvolosevich/Documents/JetProjects/PyProjects/DPR-Matrix-Multiplication/venv/lib/python3.11/site-packages (from matplotlib>=1.4.3->jupyterthemes) (1.1.0)\r\n",
      "Requirement already satisfied: cycler>=0.10 in /Users/artemvolosevich/Documents/JetProjects/PyProjects/DPR-Matrix-Multiplication/venv/lib/python3.11/site-packages (from matplotlib>=1.4.3->jupyterthemes) (0.11.0)\r\n",
      "Requirement already satisfied: fonttools>=4.22.0 in /Users/artemvolosevich/Documents/JetProjects/PyProjects/DPR-Matrix-Multiplication/venv/lib/python3.11/site-packages (from matplotlib>=1.4.3->jupyterthemes) (4.40.0)\r\n",
      "Requirement already satisfied: kiwisolver>=1.0.1 in /Users/artemvolosevich/Documents/JetProjects/PyProjects/DPR-Matrix-Multiplication/venv/lib/python3.11/site-packages (from matplotlib>=1.4.3->jupyterthemes) (1.4.4)\r\n",
      "Requirement already satisfied: numpy>=1.20 in /Users/artemvolosevich/Documents/JetProjects/PyProjects/DPR-Matrix-Multiplication/venv/lib/python3.11/site-packages (from matplotlib>=1.4.3->jupyterthemes) (1.24.3)\r\n",
      "Requirement already satisfied: packaging>=20.0 in /Users/artemvolosevich/Documents/JetProjects/PyProjects/DPR-Matrix-Multiplication/venv/lib/python3.11/site-packages (from matplotlib>=1.4.3->jupyterthemes) (23.1)\r\n",
      "Requirement already satisfied: pillow>=6.2.0 in /Users/artemvolosevich/Documents/JetProjects/PyProjects/DPR-Matrix-Multiplication/venv/lib/python3.11/site-packages (from matplotlib>=1.4.3->jupyterthemes) (9.5.0)\r\n",
      "Requirement already satisfied: pyparsing>=2.3.1 in /Users/artemvolosevich/Documents/JetProjects/PyProjects/DPR-Matrix-Multiplication/venv/lib/python3.11/site-packages (from matplotlib>=1.4.3->jupyterthemes) (3.0.9)\r\n",
      "Requirement already satisfied: python-dateutil>=2.7 in /Users/artemvolosevich/Documents/JetProjects/PyProjects/DPR-Matrix-Multiplication/venv/lib/python3.11/site-packages (from matplotlib>=1.4.3->jupyterthemes) (2.8.2)\r\n",
      "Requirement already satisfied: jinja2 in /Users/artemvolosevich/Documents/JetProjects/PyProjects/DPR-Matrix-Multiplication/venv/lib/python3.11/site-packages (from notebook>=5.6.0->jupyterthemes) (3.1.2)\r\n",
      "Requirement already satisfied: tornado>=6.1 in /Users/artemvolosevich/Documents/JetProjects/PyProjects/DPR-Matrix-Multiplication/venv/lib/python3.11/site-packages (from notebook>=5.6.0->jupyterthemes) (6.3.2)\r\n",
      "Requirement already satisfied: pyzmq>=17 in /Users/artemvolosevich/Documents/JetProjects/PyProjects/DPR-Matrix-Multiplication/venv/lib/python3.11/site-packages (from notebook>=5.6.0->jupyterthemes) (25.1.0)\r\n",
      "Requirement already satisfied: argon2-cffi in /Users/artemvolosevich/Documents/JetProjects/PyProjects/DPR-Matrix-Multiplication/venv/lib/python3.11/site-packages (from notebook>=5.6.0->jupyterthemes) (21.3.0)\r\n",
      "Requirement already satisfied: jupyter-client>=5.3.4 in /Users/artemvolosevich/Documents/JetProjects/PyProjects/DPR-Matrix-Multiplication/venv/lib/python3.11/site-packages (from notebook>=5.6.0->jupyterthemes) (8.2.0)\r\n",
      "Requirement already satisfied: ipython-genutils in /Users/artemvolosevich/Documents/JetProjects/PyProjects/DPR-Matrix-Multiplication/venv/lib/python3.11/site-packages (from notebook>=5.6.0->jupyterthemes) (0.2.0)\r\n",
      "Requirement already satisfied: nbformat in /Users/artemvolosevich/Documents/JetProjects/PyProjects/DPR-Matrix-Multiplication/venv/lib/python3.11/site-packages (from notebook>=5.6.0->jupyterthemes) (5.9.0)\r\n",
      "Requirement already satisfied: nbconvert>=5 in /Users/artemvolosevich/Documents/JetProjects/PyProjects/DPR-Matrix-Multiplication/venv/lib/python3.11/site-packages (from notebook>=5.6.0->jupyterthemes) (7.5.0)\r\n",
      "Requirement already satisfied: nest-asyncio>=1.5 in /Users/artemvolosevich/Documents/JetProjects/PyProjects/DPR-Matrix-Multiplication/venv/lib/python3.11/site-packages (from notebook>=5.6.0->jupyterthemes) (1.5.6)\r\n",
      "Requirement already satisfied: ipykernel in /Users/artemvolosevich/Documents/JetProjects/PyProjects/DPR-Matrix-Multiplication/venv/lib/python3.11/site-packages (from notebook>=5.6.0->jupyterthemes) (6.23.2)\r\n",
      "Requirement already satisfied: Send2Trash>=1.8.0 in /Users/artemvolosevich/Documents/JetProjects/PyProjects/DPR-Matrix-Multiplication/venv/lib/python3.11/site-packages (from notebook>=5.6.0->jupyterthemes) (1.8.2)\r\n",
      "Requirement already satisfied: terminado>=0.8.3 in /Users/artemvolosevich/Documents/JetProjects/PyProjects/DPR-Matrix-Multiplication/venv/lib/python3.11/site-packages (from notebook>=5.6.0->jupyterthemes) (0.17.1)\r\n",
      "Requirement already satisfied: prometheus-client in /Users/artemvolosevich/Documents/JetProjects/PyProjects/DPR-Matrix-Multiplication/venv/lib/python3.11/site-packages (from notebook>=5.6.0->jupyterthemes) (0.17.0)\r\n",
      "Requirement already satisfied: nbclassic>=0.4.7 in /Users/artemvolosevich/Documents/JetProjects/PyProjects/DPR-Matrix-Multiplication/venv/lib/python3.11/site-packages (from notebook>=5.6.0->jupyterthemes) (1.0.0)\r\n",
      "Requirement already satisfied: platformdirs>=2.5 in /Users/artemvolosevich/Documents/JetProjects/PyProjects/DPR-Matrix-Multiplication/venv/lib/python3.11/site-packages (from jupyter-core->jupyterthemes) (3.5.3)\r\n",
      "Requirement already satisfied: parso<0.9.0,>=0.8.0 in /Users/artemvolosevich/Documents/JetProjects/PyProjects/DPR-Matrix-Multiplication/venv/lib/python3.11/site-packages (from jedi>=0.16->ipython>=5.4.1->jupyterthemes) (0.8.3)\r\n",
      "Requirement already satisfied: jupyter-server>=1.8 in /Users/artemvolosevich/Documents/JetProjects/PyProjects/DPR-Matrix-Multiplication/venv/lib/python3.11/site-packages (from nbclassic>=0.4.7->notebook>=5.6.0->jupyterthemes) (2.6.0)\r\n",
      "Requirement already satisfied: notebook-shim>=0.2.3 in /Users/artemvolosevich/Documents/JetProjects/PyProjects/DPR-Matrix-Multiplication/venv/lib/python3.11/site-packages (from nbclassic>=0.4.7->notebook>=5.6.0->jupyterthemes) (0.2.3)\r\n",
      "Requirement already satisfied: beautifulsoup4 in /Users/artemvolosevich/Documents/JetProjects/PyProjects/DPR-Matrix-Multiplication/venv/lib/python3.11/site-packages (from nbconvert>=5->notebook>=5.6.0->jupyterthemes) (4.12.2)\r\n",
      "Requirement already satisfied: bleach!=5.0.0 in /Users/artemvolosevich/Documents/JetProjects/PyProjects/DPR-Matrix-Multiplication/venv/lib/python3.11/site-packages (from nbconvert>=5->notebook>=5.6.0->jupyterthemes) (6.0.0)\r\n",
      "Requirement already satisfied: defusedxml in /Users/artemvolosevich/Documents/JetProjects/PyProjects/DPR-Matrix-Multiplication/venv/lib/python3.11/site-packages (from nbconvert>=5->notebook>=5.6.0->jupyterthemes) (0.7.1)\r\n",
      "Requirement already satisfied: jupyterlab-pygments in /Users/artemvolosevich/Documents/JetProjects/PyProjects/DPR-Matrix-Multiplication/venv/lib/python3.11/site-packages (from nbconvert>=5->notebook>=5.6.0->jupyterthemes) (0.2.2)\r\n",
      "Requirement already satisfied: markupsafe>=2.0 in /Users/artemvolosevich/Documents/JetProjects/PyProjects/DPR-Matrix-Multiplication/venv/lib/python3.11/site-packages (from nbconvert>=5->notebook>=5.6.0->jupyterthemes) (2.1.3)\r\n",
      "Requirement already satisfied: mistune<3,>=2.0.3 in /Users/artemvolosevich/Documents/JetProjects/PyProjects/DPR-Matrix-Multiplication/venv/lib/python3.11/site-packages (from nbconvert>=5->notebook>=5.6.0->jupyterthemes) (2.0.5)\r\n",
      "Requirement already satisfied: nbclient>=0.5.0 in /Users/artemvolosevich/Documents/JetProjects/PyProjects/DPR-Matrix-Multiplication/venv/lib/python3.11/site-packages (from nbconvert>=5->notebook>=5.6.0->jupyterthemes) (0.8.0)\r\n",
      "Requirement already satisfied: pandocfilters>=1.4.1 in /Users/artemvolosevich/Documents/JetProjects/PyProjects/DPR-Matrix-Multiplication/venv/lib/python3.11/site-packages (from nbconvert>=5->notebook>=5.6.0->jupyterthemes) (1.5.0)\r\n",
      "Requirement already satisfied: tinycss2 in /Users/artemvolosevich/Documents/JetProjects/PyProjects/DPR-Matrix-Multiplication/venv/lib/python3.11/site-packages (from nbconvert>=5->notebook>=5.6.0->jupyterthemes) (1.2.1)\r\n",
      "Requirement already satisfied: fastjsonschema in /Users/artemvolosevich/Documents/JetProjects/PyProjects/DPR-Matrix-Multiplication/venv/lib/python3.11/site-packages (from nbformat->notebook>=5.6.0->jupyterthemes) (2.17.1)\r\n",
      "Requirement already satisfied: jsonschema>=2.6 in /Users/artemvolosevich/Documents/JetProjects/PyProjects/DPR-Matrix-Multiplication/venv/lib/python3.11/site-packages (from nbformat->notebook>=5.6.0->jupyterthemes) (4.17.3)\r\n",
      "Requirement already satisfied: ptyprocess>=0.5 in /Users/artemvolosevich/Documents/JetProjects/PyProjects/DPR-Matrix-Multiplication/venv/lib/python3.11/site-packages (from pexpect>4.3->ipython>=5.4.1->jupyterthemes) (0.7.0)\r\n",
      "Requirement already satisfied: wcwidth in /Users/artemvolosevich/Documents/JetProjects/PyProjects/DPR-Matrix-Multiplication/venv/lib/python3.11/site-packages (from prompt-toolkit!=3.0.37,<3.1.0,>=3.0.30->ipython>=5.4.1->jupyterthemes) (0.2.6)\r\n",
      "Requirement already satisfied: six>=1.5 in /Users/artemvolosevich/Documents/JetProjects/PyProjects/DPR-Matrix-Multiplication/venv/lib/python3.11/site-packages (from python-dateutil>=2.7->matplotlib>=1.4.3->jupyterthemes) (1.16.0)\r\n",
      "Requirement already satisfied: argon2-cffi-bindings in /Users/artemvolosevich/Documents/JetProjects/PyProjects/DPR-Matrix-Multiplication/venv/lib/python3.11/site-packages (from argon2-cffi->notebook>=5.6.0->jupyterthemes) (21.2.0)\r\n",
      "Requirement already satisfied: comm>=0.1.1 in /Users/artemvolosevich/Documents/JetProjects/PyProjects/DPR-Matrix-Multiplication/venv/lib/python3.11/site-packages (from ipykernel->notebook>=5.6.0->jupyterthemes) (0.1.3)\r\n",
      "Requirement already satisfied: debugpy>=1.6.5 in /Users/artemvolosevich/Documents/JetProjects/PyProjects/DPR-Matrix-Multiplication/venv/lib/python3.11/site-packages (from ipykernel->notebook>=5.6.0->jupyterthemes) (1.6.7)\r\n",
      "Requirement already satisfied: psutil in /Users/artemvolosevich/Documents/JetProjects/PyProjects/DPR-Matrix-Multiplication/venv/lib/python3.11/site-packages (from ipykernel->notebook>=5.6.0->jupyterthemes) (5.9.5)\r\n",
      "Requirement already satisfied: executing>=1.2.0 in /Users/artemvolosevich/Documents/JetProjects/PyProjects/DPR-Matrix-Multiplication/venv/lib/python3.11/site-packages (from stack-data->ipython>=5.4.1->jupyterthemes) (1.2.0)\r\n",
      "Requirement already satisfied: asttokens>=2.1.0 in /Users/artemvolosevich/Documents/JetProjects/PyProjects/DPR-Matrix-Multiplication/venv/lib/python3.11/site-packages (from stack-data->ipython>=5.4.1->jupyterthemes) (2.2.1)\r\n",
      "Requirement already satisfied: pure-eval in /Users/artemvolosevich/Documents/JetProjects/PyProjects/DPR-Matrix-Multiplication/venv/lib/python3.11/site-packages (from stack-data->ipython>=5.4.1->jupyterthemes) (0.2.2)\r\n",
      "Requirement already satisfied: webencodings in /Users/artemvolosevich/Documents/JetProjects/PyProjects/DPR-Matrix-Multiplication/venv/lib/python3.11/site-packages (from bleach!=5.0.0->nbconvert>=5->notebook>=5.6.0->jupyterthemes) (0.5.1)\r\n",
      "Requirement already satisfied: attrs>=17.4.0 in /Users/artemvolosevich/Documents/JetProjects/PyProjects/DPR-Matrix-Multiplication/venv/lib/python3.11/site-packages (from jsonschema>=2.6->nbformat->notebook>=5.6.0->jupyterthemes) (23.1.0)\r\n",
      "Requirement already satisfied: pyrsistent!=0.17.0,!=0.17.1,!=0.17.2,>=0.14.0 in /Users/artemvolosevich/Documents/JetProjects/PyProjects/DPR-Matrix-Multiplication/venv/lib/python3.11/site-packages (from jsonschema>=2.6->nbformat->notebook>=5.6.0->jupyterthemes) (0.19.3)\r\n",
      "Requirement already satisfied: anyio>=3.1.0 in /Users/artemvolosevich/Documents/JetProjects/PyProjects/DPR-Matrix-Multiplication/venv/lib/python3.11/site-packages (from jupyter-server>=1.8->nbclassic>=0.4.7->notebook>=5.6.0->jupyterthemes) (3.7.0)\r\n",
      "Requirement already satisfied: jupyter-events>=0.6.0 in /Users/artemvolosevich/Documents/JetProjects/PyProjects/DPR-Matrix-Multiplication/venv/lib/python3.11/site-packages (from jupyter-server>=1.8->nbclassic>=0.4.7->notebook>=5.6.0->jupyterthemes) (0.6.3)\r\n",
      "Requirement already satisfied: jupyter-server-terminals in /Users/artemvolosevich/Documents/JetProjects/PyProjects/DPR-Matrix-Multiplication/venv/lib/python3.11/site-packages (from jupyter-server>=1.8->nbclassic>=0.4.7->notebook>=5.6.0->jupyterthemes) (0.4.4)\r\n",
      "Requirement already satisfied: overrides in /Users/artemvolosevich/Documents/JetProjects/PyProjects/DPR-Matrix-Multiplication/venv/lib/python3.11/site-packages (from jupyter-server>=1.8->nbclassic>=0.4.7->notebook>=5.6.0->jupyterthemes) (7.3.1)\r\n",
      "Requirement already satisfied: websocket-client in /Users/artemvolosevich/Documents/JetProjects/PyProjects/DPR-Matrix-Multiplication/venv/lib/python3.11/site-packages (from jupyter-server>=1.8->nbclassic>=0.4.7->notebook>=5.6.0->jupyterthemes) (1.5.3)\r\n",
      "Requirement already satisfied: cffi>=1.0.1 in /Users/artemvolosevich/Documents/JetProjects/PyProjects/DPR-Matrix-Multiplication/venv/lib/python3.11/site-packages (from argon2-cffi-bindings->argon2-cffi->notebook>=5.6.0->jupyterthemes) (1.15.1)\r\n",
      "Requirement already satisfied: soupsieve>1.2 in /Users/artemvolosevich/Documents/JetProjects/PyProjects/DPR-Matrix-Multiplication/venv/lib/python3.11/site-packages (from beautifulsoup4->nbconvert>=5->notebook>=5.6.0->jupyterthemes) (2.4.1)\r\n",
      "Requirement already satisfied: idna>=2.8 in /Users/artemvolosevich/Documents/JetProjects/PyProjects/DPR-Matrix-Multiplication/venv/lib/python3.11/site-packages (from anyio>=3.1.0->jupyter-server>=1.8->nbclassic>=0.4.7->notebook>=5.6.0->jupyterthemes) (3.4)\r\n",
      "Requirement already satisfied: sniffio>=1.1 in /Users/artemvolosevich/Documents/JetProjects/PyProjects/DPR-Matrix-Multiplication/venv/lib/python3.11/site-packages (from anyio>=3.1.0->jupyter-server>=1.8->nbclassic>=0.4.7->notebook>=5.6.0->jupyterthemes) (1.3.0)\r\n",
      "Requirement already satisfied: pycparser in /Users/artemvolosevich/Documents/JetProjects/PyProjects/DPR-Matrix-Multiplication/venv/lib/python3.11/site-packages (from cffi>=1.0.1->argon2-cffi-bindings->argon2-cffi->notebook>=5.6.0->jupyterthemes) (2.21)\r\n",
      "Requirement already satisfied: python-json-logger>=2.0.4 in /Users/artemvolosevich/Documents/JetProjects/PyProjects/DPR-Matrix-Multiplication/venv/lib/python3.11/site-packages (from jupyter-events>=0.6.0->jupyter-server>=1.8->nbclassic>=0.4.7->notebook>=5.6.0->jupyterthemes) (2.0.7)\r\n",
      "Requirement already satisfied: pyyaml>=5.3 in /Users/artemvolosevich/Documents/JetProjects/PyProjects/DPR-Matrix-Multiplication/venv/lib/python3.11/site-packages (from jupyter-events>=0.6.0->jupyter-server>=1.8->nbclassic>=0.4.7->notebook>=5.6.0->jupyterthemes) (6.0)\r\n",
      "Requirement already satisfied: rfc3339-validator in /Users/artemvolosevich/Documents/JetProjects/PyProjects/DPR-Matrix-Multiplication/venv/lib/python3.11/site-packages (from jupyter-events>=0.6.0->jupyter-server>=1.8->nbclassic>=0.4.7->notebook>=5.6.0->jupyterthemes) (0.1.4)\r\n",
      "Requirement already satisfied: rfc3986-validator>=0.1.1 in /Users/artemvolosevich/Documents/JetProjects/PyProjects/DPR-Matrix-Multiplication/venv/lib/python3.11/site-packages (from jupyter-events>=0.6.0->jupyter-server>=1.8->nbclassic>=0.4.7->notebook>=5.6.0->jupyterthemes) (0.1.1)\r\n",
      "Requirement already satisfied: fqdn in /Users/artemvolosevich/Documents/JetProjects/PyProjects/DPR-Matrix-Multiplication/venv/lib/python3.11/site-packages (from jsonschema>=2.6->nbformat->notebook>=5.6.0->jupyterthemes) (1.5.1)\r\n",
      "Requirement already satisfied: isoduration in /Users/artemvolosevich/Documents/JetProjects/PyProjects/DPR-Matrix-Multiplication/venv/lib/python3.11/site-packages (from jsonschema>=2.6->nbformat->notebook>=5.6.0->jupyterthemes) (20.11.0)\r\n",
      "Requirement already satisfied: jsonpointer>1.13 in /Users/artemvolosevich/Documents/JetProjects/PyProjects/DPR-Matrix-Multiplication/venv/lib/python3.11/site-packages (from jsonschema>=2.6->nbformat->notebook>=5.6.0->jupyterthemes) (2.3)\r\n",
      "Requirement already satisfied: uri-template in /Users/artemvolosevich/Documents/JetProjects/PyProjects/DPR-Matrix-Multiplication/venv/lib/python3.11/site-packages (from jsonschema>=2.6->nbformat->notebook>=5.6.0->jupyterthemes) (1.2.0)\r\n",
      "Requirement already satisfied: webcolors>=1.11 in /Users/artemvolosevich/Documents/JetProjects/PyProjects/DPR-Matrix-Multiplication/venv/lib/python3.11/site-packages (from jsonschema>=2.6->nbformat->notebook>=5.6.0->jupyterthemes) (1.13)\r\n",
      "Requirement already satisfied: arrow>=0.15.0 in /Users/artemvolosevich/Documents/JetProjects/PyProjects/DPR-Matrix-Multiplication/venv/lib/python3.11/site-packages (from isoduration->jsonschema>=2.6->nbformat->notebook>=5.6.0->jupyterthemes) (1.2.3)\r\n",
      "\r\n",
      "\u001B[1m[\u001B[0m\u001B[34;49mnotice\u001B[0m\u001B[1;39;49m]\u001B[0m\u001B[39;49m A new release of pip available: \u001B[0m\u001B[31;49m22.3.1\u001B[0m\u001B[39;49m -> \u001B[0m\u001B[32;49m23.1.2\u001B[0m\r\n",
      "\u001B[1m[\u001B[0m\u001B[34;49mnotice\u001B[0m\u001B[1;39;49m]\u001B[0m\u001B[39;49m To update, run: \u001B[0m\u001B[32;49mpip install --upgrade pip\u001B[0m\r\n"
     ]
    }
   ],
   "source": [
    "!pip install recnn\n",
    "!pip install torch_optimizer\n",
    "!pip install tensorboard\n",
    "!pip install sklearn\n",
    "!pip install jupyterthemes"
   ],
   "metadata": {
    "collapsed": false,
    "ExecuteTime": {
     "start_time": "2023-06-14T20:52:14.466038Z",
     "end_time": "2023-06-14T20:52:19.738109Z"
    }
   }
  },
  {
   "cell_type": "code",
   "execution_count": 27,
   "outputs": [],
   "source": [
    "from collections import namedtuple, deque\n",
    "import misc\n",
    "import torch\n",
    "import pickle\n",
    "import os\n",
    "from tqdm.auto import tqdm\n",
    "import torch\n",
    "import torch.nn as nn\n",
    "from torch.utils.tensorboard import SummaryWriter\n",
    "import torch.nn.functional as F\n",
    "import torch_optimizer as optim\n",
    "import pickle\n",
    "import numpy as np\n",
    "from collections import namedtuple\n",
    "import sys\n",
    "from jupyterthemes import jtplot\n",
    "jtplot.style(theme='grade3')\n",
    "sys.path.append(\"../../\")\n"
   ],
   "metadata": {
    "collapsed": false,
    "ExecuteTime": {
     "start_time": "2023-06-14T20:52:19.740479Z",
     "end_time": "2023-06-14T20:52:19.744011Z"
    }
   }
  },
  {
   "cell_type": "code",
   "execution_count": 28,
   "outputs": [],
   "source": [
    "def get_tensor(x, y, z):\n",
    "    multiply_tensor = torch.zeros((x * z, y * z, x * y), dtype=torch.float32)\n",
    "\n",
    "    for i in range(z):\n",
    "        for j in range(x):\n",
    "            for k in range(y):\n",
    "                multiply_tensor[i * x + j][i * y + k][j + k * x] = 1\n",
    "\n",
    "    final_tensor = torch.tensor(multiply_tensor)\n",
    "    return final_tensor"
   ],
   "metadata": {
    "collapsed": false,
    "ExecuteTime": {
     "start_time": "2023-06-14T20:52:19.745618Z",
     "end_time": "2023-06-14T20:52:19.747408Z"
    }
   }
  },
  {
   "cell_type": "code",
   "execution_count": 29,
   "outputs": [
    {
     "name": "stderr",
     "output_type": "stream",
     "text": [
      "/var/folders/y7/7g_7wfqd5hj9qmks2g8q5l200000gn/T/ipykernel_11103/2081598127.py:9: UserWarning: To copy construct from a tensor, it is recommended to use sourceTensor.clone().detach() or sourceTensor.clone().detach().requires_grad_(True), rather than torch.tensor(sourceTensor).\n",
      "  final_tensor = torch.tensor(multiply_tensor)\n"
     ]
    }
   ],
   "source": [
    "lib = {}\n",
    "for a in range(1, 10):\n",
    "    for b in range(1, 10):\n",
    "        for c in range(1, 10):\n",
    "            lib.update({(a, b, c): get_tensor(a, b, c)})\n",
    "\n",
    "with open('tensor_holder\\\\tensors', 'wb') as f:\n",
    "    if os.stat(f).st_size == 0:\n",
    "        pickle.dump(lib, f)"
   ],
   "metadata": {
    "collapsed": false,
    "ExecuteTime": {
     "start_time": "2023-06-14T20:52:19.748523Z",
     "end_time": "2023-06-14T20:52:20.071467Z"
    }
   }
  },
  {
   "cell_type": "code",
   "execution_count": 30,
   "outputs": [],
   "source": [
    "%matplotlib inline\n",
    "\n",
    "\n",
    "cuda = torch.device('cpu')\n",
    "\n",
    "# ---\n",
    "frame_size = 10\n",
    "batch_size = 25\n",
    "n_epochs   = 100\n",
    "plot_every = 30\n",
    "step       = 0\n",
    "# ---\n",
    "\n",
    "tqdm.pandas()\n",
    "\n",
    "with open('tensor_holder\\\\tensors', 'rb') as f:\n",
    "    multiply_tensors = pickle.load(f)"
   ],
   "metadata": {
    "collapsed": false,
    "ExecuteTime": {
     "start_time": "2023-06-14T20:52:20.074228Z",
     "end_time": "2023-06-14T20:52:20.132925Z"
    }
   }
  },
  {
   "cell_type": "code",
   "execution_count": 31,
   "outputs": [],
   "source": [
    "class Environment:\n",
    "    def __init__(self, shape):\n",
    "        self.shape = shape\n",
    "        self.m = self.shape[0]\n",
    "        self.n = self.shape[1]\n",
    "        self.d = self.shape[2]\n",
    "        self.state = None\n",
    "\n",
    "    def reset(self):\n",
    "        self.state = torch.clone(multiply_tensors[self.shape]).to(torch.float32)\n",
    "        return self.state\n",
    "\n",
    "    def step(self, action):\n",
    "        # Perform action on the environment\n",
    "        # Update the state based on the action\n",
    "        # Compute the reward and done flag\n",
    "        summ = torch.outer(torch.tensor(action[0]), torch.tensor(action[1]))\n",
    "        for j in range(4):\n",
    "            self.state[j] -= summ * torch.tensor(action[2], dtype=torch.float32)\n",
    "\n",
    "        # Example: Compute reward and done flag\n",
    "        reward = -1\n",
    "        done = torch.equal(self.state, torch.zeros(self.m * self.n, self.n * self.d, self.m * self.d))\n",
    "\n",
    "        return self.state, reward, done"
   ],
   "metadata": {
    "collapsed": false,
    "ExecuteTime": {
     "start_time": "2023-06-14T20:52:20.135582Z",
     "end_time": "2023-06-14T20:52:20.136009Z"
    }
   }
  },
  {
   "cell_type": "code",
   "execution_count": 32,
   "outputs": [],
   "source": [
    "class BatchBuffer:\n",
    "  def __init__(self, memory_size=1000):\n",
    "    self.memory_size = memory_size\n",
    "    self.Buffer = namedtuple('Buffer', 'state action reward next_state done')\n",
    "    self.replay_memory = deque(maxlen=memory_size)\n",
    "\n",
    "  def get_batch(self): # to change\n",
    "    rand_ind = np.random.choice(len(self.replay_memory))\n",
    "    return self.replay_memory[rand_ind]\n",
    "\n",
    "  def append(self, state, action, reward, next_state, done):\n",
    "    self.replay_memory.append(self.Buffer(state, action, reward, next_state, done))\n",
    "\n",
    "  def append_batch(self, state_batch, action_batch, reward_batch, next_state_batch, done):\n",
    "    for i in range(state_batch.shape[0]):\n",
    "      self.append(state_batch[i], action_batch[i], reward_batch[i], next_state_batch[i], done)\n",
    "\n",
    "  def clear(self):\n",
    "    self.replay_memory.clear()\n",
    "\n",
    "  def print_len_buffer(self):\n",
    "    return len(self.replay_memory)\n",
    "\n",
    "env_shape = (2, 2, 2)\n",
    "env = Environment(env_shape)"
   ],
   "metadata": {
    "collapsed": false,
    "ExecuteTime": {
     "start_time": "2023-06-14T20:52:20.137718Z",
     "end_time": "2023-06-14T20:52:20.139292Z"
    }
   }
  },
  {
   "cell_type": "code",
   "execution_count": 33,
   "outputs": [],
   "source": [
    "class Actor(nn.Module):\n",
    "    def __init__(self, input_dim, action_dim, hidden_size, init_w=3e-1):\n",
    "        super(Actor, self).__init__()\n",
    "\n",
    "        self.drop_layer = nn.Dropout(p=0.5)\n",
    "\n",
    "        self.linear1 = nn.Linear(input_dim, hidden_size)\n",
    "        self.linear2 = nn.Linear(hidden_size, hidden_size)\n",
    "        self.linear3 = nn.Linear(hidden_size, action_dim)\n",
    "\n",
    "        self.linear3.weight.data.uniform_(-init_w, init_w)\n",
    "        self.linear3.bias.data.uniform_(-init_w, init_w)\n",
    "\n",
    "    def forward(self, state):\n",
    "        # state = self.state_rep(state)\n",
    "        x = F.tanh(self.linear1(state))\n",
    "        x = self.drop_layer(x)\n",
    "        x = F.tanh(self.linear2(x))\n",
    "        x = self.drop_layer(x)\n",
    "        # x = torch.tanh(self.linear3(x)) # in case embeds are -1 1 normalized\n",
    "        x = torch.tanh(self.linear3(x)) # in case embeds are standard scaled / wiped using PCA whitening\n",
    "        # return state, x\n",
    "        return x # action"
   ],
   "metadata": {
    "collapsed": false,
    "ExecuteTime": {
     "start_time": "2023-06-14T20:52:20.140700Z",
     "end_time": "2023-06-14T20:52:20.142105Z"
    }
   }
  },
  {
   "cell_type": "code",
   "execution_count": 34,
   "outputs": [],
   "source": [
    "class Critic(nn.Module):\n",
    "    def __init__(self, input_dim, action_dim, hidden_size, init_w=3e-5):\n",
    "        super(Critic, self).__init__()\n",
    "\n",
    "        self.drop_layer = nn.Dropout(p=0.5)\n",
    "\n",
    "        self.linear1 = nn.Linear(input_dim + action_dim, hidden_size)\n",
    "        self.linear2 = nn.Linear(hidden_size, hidden_size)\n",
    "        self.linear3 = nn.Linear(hidden_size, 1)\n",
    "\n",
    "        self.linear3.weight.data.uniform_(-init_w, init_w)\n",
    "        self.linear3.bias.data.uniform_(-init_w, init_w)\n",
    "\n",
    "    def forward(self, state, action):\n",
    "        x = torch.cat([state, action], dim=0)\n",
    "        x = F.relu(self.linear1(x))\n",
    "        x = self.drop_layer(x)\n",
    "        x = F.relu(self.linear2(x))\n",
    "        x = self.drop_layer(x)\n",
    "        x = self.linear3(x)\n",
    "        return x"
   ],
   "metadata": {
    "collapsed": false,
    "ExecuteTime": {
     "start_time": "2023-06-14T20:52:20.144132Z",
     "end_time": "2023-06-14T20:52:20.145225Z"
    }
   }
  },
  {
   "cell_type": "code",
   "execution_count": 35,
   "outputs": [],
   "source": [
    "def soft_update(net, target_net, soft_tau=1e-2):\n",
    "    for target_param, param in zip(target_net.parameters(), net.parameters()):\n",
    "            target_param.data.copy_(\n",
    "                target_param.data * (1.0 - soft_tau) + param.data * soft_tau\n",
    "            )\n"
   ],
   "metadata": {
    "collapsed": false,
    "ExecuteTime": {
     "start_time": "2023-06-14T20:52:20.145991Z",
     "end_time": "2023-06-14T20:52:20.147235Z"
    }
   }
  },
  {
   "cell_type": "code",
   "execution_count": 47,
   "outputs": [],
   "source": [
    "def ddpg_update(step_batch, params, learn=True, step=-1):\n",
    "\n",
    "    state, action, reward, next_state, done = step_batch\n",
    "\n",
    "    # --------------------------------------------------------#\n",
    "    # Value Learning\n",
    "\n",
    "    with torch.no_grad():\n",
    "        next_action = torch.Tensor(select_action(next_state, target_policy_net))\n",
    "        target_value   = target_value_net(next_state.resize(64), next_action.detach().resize(12))\n",
    "        expected_value = reward + (1.0 - done) * params['gamma'] * target_value\n",
    "        expected_value = torch.clamp(expected_value,\n",
    "                                     params['min_value'], params['max_value'])\n",
    "\n",
    "    value = value_net(state.resize(64), torch.Tensor(action).resize(12))\n",
    "\n",
    "    value_loss = torch.pow(value - expected_value.detach(), 2).mean()\n",
    "\n",
    "    if learn:\n",
    "        value_optimizer.zero_grad()\n",
    "        value_loss.backward()\n",
    "        value_optimizer.step()\n",
    "    else:\n",
    "        debug['next_action'] = next_action\n",
    "        writer.add_figure('next_action',\n",
    "                    misc.pairwise_distances_fig(next_action[:50]), step)\n",
    "        writer.add_histogram('value', value, step)\n",
    "        writer.add_histogram('target_value', target_value, step)\n",
    "        writer.add_histogram('expected_value', expected_value, step)\n",
    "\n",
    "    # --------------------------------------------------------#\n",
    "    # Policy learning\n",
    "\n",
    "    gen_action = select_action(state, policy_net)\n",
    "    policy_loss = -value_net(state.resize(64), torch.from_numpy(gen_action).resize(12))\n",
    "\n",
    "    if not learn:\n",
    "        debug['gen_action'] = gen_action\n",
    "        writer.add_histogram('policy_loss', policy_loss, step)\n",
    "        writer.add_figure('next_action',\n",
    "                    misc.pairwise_distances_fig(gen_action[:50]), step)\n",
    "\n",
    "    policy_loss = policy_loss.mean()\n",
    "\n",
    "    if learn and step % params['policy_step']== 0:\n",
    "        policy_optimizer.zero_grad()\n",
    "        policy_loss.backward()\n",
    "        torch.nn.utils.clip_grad_norm_(policy_net.parameters(), -1, 1)\n",
    "        policy_optimizer.step()\n",
    "\n",
    "        soft_update(value_net, target_value_net, soft_tau=params['soft_tau'])\n",
    "        soft_update(policy_net, target_policy_net, soft_tau=params['soft_tau'])\n",
    "\n",
    "\n",
    "    losses = {'value': value_loss.item(), 'policy': policy_loss.item(), 'step': step}\n",
    "    misc.write_losses(writer, losses, kind='train' if learn else 'test')\n",
    "    return losses\n",
    "\n",
    "# === ddpg settings ===\n",
    "\n",
    "params = {\n",
    "    'gamma'      : 0.99,\n",
    "    'min_value'  : -10,\n",
    "    'max_value'  : 10,\n",
    "    'policy_step': 10,\n",
    "    'soft_tau'   : 0.001,\n",
    "    'max_steps'  : 8,\n",
    "    'policy_lr'  : 1e-5,\n",
    "    'value_lr'   : 1e-5,\n",
    "    'actor_weight_init': 54e-2,\n",
    "    'critic_weight_init': 6e-1,\n",
    "}\n",
    "\n",
    "# === end ===\n"
   ],
   "metadata": {
    "collapsed": false,
    "ExecuteTime": {
     "start_time": "2023-06-14T21:00:47.433851Z",
     "end_time": "2023-06-14T21:00:47.435278Z"
    }
   }
  },
  {
   "cell_type": "code",
   "execution_count": 37,
   "outputs": [],
   "source": [
    "value_net  = Critic(64, 12, 128, params['critic_weight_init']).to(cuda)\n",
    "policy_net = Actor(64, 12, 128, params['actor_weight_init']).to(cuda)\n",
    "\n",
    "\n",
    "target_value_net = Critic(64, 12, 128).to(cuda)\n",
    "target_policy_net = Actor(64, 12, 128).to(cuda)\n",
    "\n",
    "\n",
    "target_policy_net.eval()\n",
    "target_value_net.eval()\n",
    "\n",
    "soft_update(value_net, target_value_net, soft_tau=1.0)\n",
    "soft_update(policy_net, target_policy_net, soft_tau=1.0)\n",
    "\n",
    "value_criterion = nn.MSELoss()\n",
    "\n",
    "# from good to bad: Ranger Radam Adam RMSprop\n",
    "value_optimizer = optim.Ranger(value_net.parameters(),\n",
    "                              lr=params['value_lr'], weight_decay=1e-2)\n",
    "policy_optimizer = optim.Ranger(policy_net.parameters(),\n",
    "                               lr=params['policy_lr'], weight_decay=1e-5)\n",
    "\n",
    "loss = {\n",
    "    'test': {'value': [], 'policy': [], 'step': []},\n",
    "    'train': {'value': [], 'policy': [], 'step': []}\n",
    "    }\n",
    "\n",
    "debug = {}\n",
    "\n",
    "writer = SummaryWriter(log_dir='../../runs')\n",
    "plotter = misc.Plotter(loss, [['value', 'policy']],)"
   ],
   "metadata": {
    "collapsed": false,
    "ExecuteTime": {
     "start_time": "2023-06-14T20:52:20.153684Z",
     "end_time": "2023-06-14T20:52:20.159393Z"
    }
   }
  },
  {
   "cell_type": "code",
   "execution_count": 38,
   "outputs": [
    {
     "name": "stderr",
     "output_type": "stream",
     "text": [
      "/var/folders/y7/7g_7wfqd5hj9qmks2g8q5l200000gn/T/ipykernel_11103/3093035418.py:2: UserWarning: To copy construct from a tensor, it is recommended to use sourceTensor.clone().detach() or sourceTensor.clone().detach().requires_grad_(True), rather than torch.tensor(sourceTensor).\n",
      "  state = torch.tensor(state, dtype=torch.float32).view(1, -1)\n"
     ]
    }
   ],
   "source": [
    "def select_action(state, actor):\n",
    "        state = torch.tensor(state, dtype=torch.float32).view(1, -1)\n",
    "        action = actor(state).detach().numpy()[0]\n",
    "        action = np.array(tuple(map(lambda el: max((-1 if -1<=el<-0.33 else 0, 1 if 0.33<el<=1 else 0), key=abs), action))).reshape(3, 4)\n",
    "        return action\n",
    "\n",
    "act = select_action(env.reset(), policy_net)"
   ],
   "metadata": {
    "collapsed": false,
    "ExecuteTime": {
     "start_time": "2023-06-14T20:52:20.158696Z",
     "end_time": "2023-06-14T20:52:20.171280Z"
    }
   }
  },
  {
   "cell_type": "code",
   "execution_count": 39,
   "outputs": [
    {
     "name": "stderr",
     "output_type": "stream",
     "text": [
      "/var/folders/y7/7g_7wfqd5hj9qmks2g8q5l200000gn/T/ipykernel_11103/3093035418.py:2: UserWarning: To copy construct from a tensor, it is recommended to use sourceTensor.clone().detach() or sourceTensor.clone().detach().requires_grad_(True), rather than torch.tensor(sourceTensor).\n",
      "  state = torch.tensor(state, dtype=torch.float32).view(1, -1)\n"
     ]
    }
   ],
   "source": [
    "buffer = BatchBuffer()\n",
    "env = Environment(env_shape)\n",
    "\n",
    "num_episodes = 100\n",
    "\n",
    "for i in range(num_episodes):\n",
    "  state = env.reset()\n",
    "  done = False\n",
    "  episode_reward = 0\n",
    "  steps = 0\n",
    "\n",
    "  while not done:\n",
    "    if steps == params['max_steps']:\n",
    "      episode_reward -= params['max_steps']\n",
    "      buffer.append(state, action, episode_reward, next_state, done)\n",
    "      break\n",
    "    action = select_action(state, policy_net)\n",
    "    next_state, reward, done = env.step(action)\n",
    "    episode_reward += reward\n",
    "\n",
    "    buffer.append(state, action, episode_reward, next_state, done)\n",
    "\n",
    "    state = torch.clone(next_state)\n",
    "    steps += 1"
   ],
   "metadata": {
    "collapsed": false,
    "ExecuteTime": {
     "start_time": "2023-06-14T20:52:20.172839Z",
     "end_time": "2023-06-14T20:52:20.272544Z"
    }
   }
  },
  {
   "cell_type": "code",
   "execution_count": 52,
   "outputs": [
    {
     "name": "stderr",
     "output_type": "stream",
     "text": [
      "/var/folders/y7/7g_7wfqd5hj9qmks2g8q5l200000gn/T/ipykernel_11103/3093035418.py:2: UserWarning: To copy construct from a tensor, it is recommended to use sourceTensor.clone().detach() or sourceTensor.clone().detach().requires_grad_(True), rather than torch.tensor(sourceTensor).\n",
      "  state = torch.tensor(state, dtype=torch.float32).view(1, -1)\n"
     ]
    },
    {
     "data": {
      "text/plain": "{'value': 19.46592140197754, 'policy': 7.130634307861328, 'step': -1}"
     },
     "execution_count": 52,
     "metadata": {},
     "output_type": "execute_result"
    }
   ],
   "source": [
    "\n",
    "batch = buffer.get_batch()\n",
    "ddpg_update(batch, params)\n",
    "\n",
    "\n",
    "\n",
    "\n"
   ],
   "metadata": {
    "collapsed": false,
    "ExecuteTime": {
     "start_time": "2023-06-14T21:03:41.244206Z",
     "end_time": "2023-06-14T21:03:41.252846Z"
    }
   }
  }
 ],
 "metadata": {
  "kernelspec": {
   "display_name": "Python 3",
   "language": "python",
   "name": "python3"
  },
  "language_info": {
   "codemirror_mode": {
    "name": "ipython",
    "version": 2
   },
   "file_extension": ".py",
   "mimetype": "text/x-python",
   "name": "python",
   "nbconvert_exporter": "python",
   "pygments_lexer": "ipython2",
   "version": "2.7.6"
  }
 },
 "nbformat": 4,
 "nbformat_minor": 0
}
